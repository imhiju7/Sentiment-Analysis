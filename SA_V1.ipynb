{
 "cells": [
  {
   "cell_type": "code",
   "execution_count": 1,
   "metadata": {},
   "outputs": [],
   "source": [
    "import pandas as pd\n",
    "import numpy as np\n",
    "import matplotlib.pyplot as plt\n",
    "import seaborn as sns\n",
    "import string"
   ]
  },
  {
   "cell_type": "code",
   "execution_count": 2,
   "metadata": {},
   "outputs": [],
   "source": [
    "import warnings\n",
    "warnings.filterwarnings('ignore')"
   ]
  },
  {
   "cell_type": "code",
   "execution_count": 3,
   "metadata": {},
   "outputs": [],
   "source": [
    "data = pd.read_csv('train.csv')"
   ]
  },
  {
   "cell_type": "code",
   "execution_count": 4,
   "metadata": {},
   "outputs": [
    {
     "data": {
      "text/html": [
       "<div>\n",
       "<style scoped>\n",
       "    .dataframe tbody tr th:only-of-type {\n",
       "        vertical-align: middle;\n",
       "    }\n",
       "\n",
       "    .dataframe tbody tr th {\n",
       "        vertical-align: top;\n",
       "    }\n",
       "\n",
       "    .dataframe thead th {\n",
       "        text-align: right;\n",
       "    }\n",
       "</style>\n",
       "<table border=\"1\" class=\"dataframe\">\n",
       "  <thead>\n",
       "    <tr style=\"text-align: right;\">\n",
       "      <th></th>\n",
       "      <th>Rate</th>\n",
       "      <th>Comments</th>\n",
       "    </tr>\n",
       "  </thead>\n",
       "  <tbody>\n",
       "    <tr>\n",
       "      <th>0</th>\n",
       "      <td>0</td>\n",
       "      <td>chỉ có dây cáp nguồn không có adapter sao sử d...</td>\n",
       "    </tr>\n",
       "    <tr>\n",
       "      <th>1</th>\n",
       "      <td>0</td>\n",
       "      <td>Chất lượng quá kém Mới dùng được 2 ngày loa ba...</td>\n",
       "    </tr>\n",
       "    <tr>\n",
       "      <th>2</th>\n",
       "      <td>0</td>\n",
       "      <td>Usb tôi vừa mới nhận usb này Rất bực bội vì cá...</td>\n",
       "    </tr>\n",
       "    <tr>\n",
       "      <th>3</th>\n",
       "      <td>2</td>\n",
       "      <td>Tuyệt vời. Hàng FPT cửa hàng</td>\n",
       "    </tr>\n",
       "    <tr>\n",
       "      <th>4</th>\n",
       "      <td>1</td>\n",
       "      <td>Chưa đo đúng bước chân rõ Nhiều khi gián đoạn ...</td>\n",
       "    </tr>\n",
       "    <tr>\n",
       "      <th>...</th>\n",
       "      <td>...</td>\n",
       "      <td>...</td>\n",
       "    </tr>\n",
       "    <tr>\n",
       "      <th>3034</th>\n",
       "      <td>0</td>\n",
       "      <td>không có bộ thu đi kèm Vừa nhận hàng xong tức ...</td>\n",
       "    </tr>\n",
       "    <tr>\n",
       "      <th>3035</th>\n",
       "      <td>0</td>\n",
       "      <td>Cũng bình thường Không mạnh như kỹ vọng Chắc t...</td>\n",
       "    </tr>\n",
       "    <tr>\n",
       "      <th>3036</th>\n",
       "      <td>2</td>\n",
       "      <td>tốt tốt đang tiền khi bỏ ra để mua giao hàng n...</td>\n",
       "    </tr>\n",
       "    <tr>\n",
       "      <th>3037</th>\n",
       "      <td>0</td>\n",
       "      <td>giao hàng lâu rửa tay một tí đã cháy màn hình ...</td>\n",
       "    </tr>\n",
       "    <tr>\n",
       "      <th>3038</th>\n",
       "      <td>2</td>\n",
       "      <td>quá tuyệt vời với giá và miễn phí giao hàng ch...</td>\n",
       "    </tr>\n",
       "  </tbody>\n",
       "</table>\n",
       "<p>3039 rows × 2 columns</p>\n",
       "</div>"
      ],
      "text/plain": [
       "      Rate                                           Comments\n",
       "0        0  chỉ có dây cáp nguồn không có adapter sao sử d...\n",
       "1        0  Chất lượng quá kém Mới dùng được 2 ngày loa ba...\n",
       "2        0  Usb tôi vừa mới nhận usb này Rất bực bội vì cá...\n",
       "3        2                       Tuyệt vời. Hàng FPT cửa hàng\n",
       "4        1  Chưa đo đúng bước chân rõ Nhiều khi gián đoạn ...\n",
       "...    ...                                                ...\n",
       "3034     0  không có bộ thu đi kèm Vừa nhận hàng xong tức ...\n",
       "3035     0  Cũng bình thường Không mạnh như kỹ vọng Chắc t...\n",
       "3036     2  tốt tốt đang tiền khi bỏ ra để mua giao hàng n...\n",
       "3037     0  giao hàng lâu rửa tay một tí đã cháy màn hình ...\n",
       "3038     2  quá tuyệt vời với giá và miễn phí giao hàng ch...\n",
       "\n",
       "[3039 rows x 2 columns]"
      ]
     },
     "execution_count": 4,
     "metadata": {},
     "output_type": "execute_result"
    }
   ],
   "source": [
    "data"
   ]
  },
  {
   "cell_type": "code",
   "execution_count": 5,
   "metadata": {},
   "outputs": [
    {
     "data": {
      "text/plain": [
       "Rate        0\n",
       "Comments    0\n",
       "dtype: int64"
      ]
     },
     "execution_count": 5,
     "metadata": {},
     "output_type": "execute_result"
    }
   ],
   "source": [
    "data.isnull().sum()"
   ]
  },
  {
   "cell_type": "code",
   "execution_count": 6,
   "metadata": {},
   "outputs": [
    {
     "data": {
      "image/png": "[encoded data removed]",
      "text/plain": [
       "<Figure size 640x480 with 1 Axes>"
      ]
     },
     "metadata": {},
     "output_type": "display_data"
    }
   ],
   "source": [
    "sns.countplot(data,x='Rate')\n",
    "plt.show()"
   ]
  },
  {
   "cell_type": "markdown",
   "metadata": {},
   "source": [
    "# Pre processing"
   ]
  },
  {
   "cell_type": "markdown",
   "metadata": {},
   "source": [
    "## To lowercase"
   ]
  },
  {
   "cell_type": "code",
   "execution_count": 7,
   "metadata": {},
   "outputs": [
    {
     "data": {
      "text/plain": [
       "0       chỉ có dây cáp nguồn không có adapter sao sử d...\n",
       "1       chất lượng quá kém mới dùng được 2 ngày loa ba...\n",
       "2       usb tôi vừa mới nhận usb này rất bực bội vì cá...\n",
       "3                            tuyệt vời. hàng fpt cửa hàng\n",
       "4       chưa đo đúng bước chân rõ nhiều khi gián đoạn ...\n",
       "                              ...                        \n",
       "3034    không có bộ thu đi kèm vừa nhận hàng xong tức ...\n",
       "3035    cũng bình thường không mạnh như kỹ vọng chắc t...\n",
       "3036    tốt tốt đang tiền khi bỏ ra để mua giao hàng n...\n",
       "3037    giao hàng lâu rửa tay một tí đã cháy màn hình ...\n",
       "3038    quá tuyệt vời với giá và miễn phí giao hàng ch...\n",
       "Name: Comments, Length: 3039, dtype: object"
      ]
     },
     "execution_count": 7,
     "metadata": {},
     "output_type": "execute_result"
    }
   ],
   "source": [
    "data['Comments'] = data['Comments'].str.lower()\n",
    "data['Comments']"
   ]
  },
  {
   "cell_type": "markdown",
   "metadata": {},
   "source": [
    "## Remove punctuation"
   ]
  },
  {
   "cell_type": "code",
   "execution_count": 8,
   "metadata": {},
   "outputs": [
    {
     "data": {
      "text/plain": [
       "0       chỉ có dây cáp nguồn không có adapter sao sử d...\n",
       "1       chất lượng quá kém mới dùng được 2 ngày loa ba...\n",
       "2       usb tôi vừa mới nhận usb này rất bực bội vì cá...\n",
       "3                             tuyệt vời hàng fpt cửa hàng\n",
       "4       chưa đo đúng bước chân rõ nhiều khi gián đoạn ...\n",
       "                              ...                        \n",
       "3034    không có bộ thu đi kèm vừa nhận hàng xong tức ...\n",
       "3035    cũng bình thường không mạnh như kỹ vọng chắc t...\n",
       "3036    tốt tốt đang tiền khi bỏ ra để mua giao hàng n...\n",
       "3037    giao hàng lâu rửa tay một tí đã cháy màn hình ...\n",
       "3038    quá tuyệt vời với giá và miễn phí giao hàng ch...\n",
       "Name: Comments, Length: 3039, dtype: object"
      ]
     },
     "execution_count": 8,
     "metadata": {},
     "output_type": "execute_result"
    }
   ],
   "source": [
    "data['Comments'] = data['Comments'].str.translate(str.maketrans('', '', string.punctuation))\n",
    "data['Comments']\n"
   ]
  },
  {
   "cell_type": "code",
   "execution_count": 9,
   "metadata": {},
   "outputs": [],
   "source": [
    "data['Length'] = data['Comments'].apply(len)"
   ]
  },
  {
   "cell_type": "markdown",
   "metadata": {},
   "source": [
    "## Tokenizer"
   ]
  },
  {
   "cell_type": "code",
   "execution_count": 10,
   "metadata": {},
   "outputs": [],
   "source": [
    "from underthesea import word_tokenize\n",
    "\n",
    "data['tokens'] = data['Comments'].apply(word_tokenize)"
   ]
  },
  {
   "cell_type": "code",
   "execution_count": 11,
   "metadata": {},
   "outputs": [
    {
     "data": {
      "text/html": [
       "<div>\n",
       "<style scoped>\n",
       "    .dataframe tbody tr th:only-of-type {\n",
       "        vertical-align: middle;\n",
       "    }\n",
       "\n",
       "    .dataframe tbody tr th {\n",
       "        vertical-align: top;\n",
       "    }\n",
       "\n",
       "    .dataframe thead th {\n",
       "        text-align: right;\n",
       "    }\n",
       "</style>\n",
       "<table border=\"1\" class=\"dataframe\">\n",
       "  <thead>\n",
       "    <tr style=\"text-align: right;\">\n",
       "      <th></th>\n",
       "      <th>Rate</th>\n",
       "      <th>Comments</th>\n",
       "      <th>Length</th>\n",
       "      <th>tokens</th>\n",
       "    </tr>\n",
       "  </thead>\n",
       "  <tbody>\n",
       "    <tr>\n",
       "      <th>0</th>\n",
       "      <td>0</td>\n",
       "      <td>chỉ có dây cáp nguồn không có adapter sao sử d...</td>\n",
       "      <td>133</td>\n",
       "      <td>[chỉ, có, dây cáp, nguồn, không, có, adapter, ...</td>\n",
       "    </tr>\n",
       "    <tr>\n",
       "      <th>1</th>\n",
       "      <td>0</td>\n",
       "      <td>chất lượng quá kém mới dùng được 2 ngày loa ba...</td>\n",
       "      <td>113</td>\n",
       "      <td>[chất lượng, quá, kém, mới, dùng, được, 2, ngà...</td>\n",
       "    </tr>\n",
       "    <tr>\n",
       "      <th>2</th>\n",
       "      <td>0</td>\n",
       "      <td>usb tôi vừa mới nhận usb này rất bực bội vì cá...</td>\n",
       "      <td>148</td>\n",
       "      <td>[usb, tôi, vừa mới, nhận, usb, này, rất, bực b...</td>\n",
       "    </tr>\n",
       "    <tr>\n",
       "      <th>3</th>\n",
       "      <td>2</td>\n",
       "      <td>tuyệt vời hàng fpt cửa hàng</td>\n",
       "      <td>27</td>\n",
       "      <td>[tuyệt vời, hàng, fpt, cửa hàng]</td>\n",
       "    </tr>\n",
       "    <tr>\n",
       "      <th>4</th>\n",
       "      <td>1</td>\n",
       "      <td>chưa đo đúng bước chân rõ nhiều khi gián đoạn ...</td>\n",
       "      <td>133</td>\n",
       "      <td>[chưa, đo, đúng, bước, chân, rõ, nhiều, khi, g...</td>\n",
       "    </tr>\n",
       "    <tr>\n",
       "      <th>...</th>\n",
       "      <td>...</td>\n",
       "      <td>...</td>\n",
       "      <td>...</td>\n",
       "      <td>...</td>\n",
       "    </tr>\n",
       "    <tr>\n",
       "      <th>3034</th>\n",
       "      <td>0</td>\n",
       "      <td>không có bộ thu đi kèm vừa nhận hàng xong tức ...</td>\n",
       "      <td>120</td>\n",
       "      <td>[không, có, bộ, thu, đi, kèm, vừa, nhận, hàng,...</td>\n",
       "    </tr>\n",
       "    <tr>\n",
       "      <th>3035</th>\n",
       "      <td>0</td>\n",
       "      <td>cũng bình thường không mạnh như kỹ vọng chắc t...</td>\n",
       "      <td>99</td>\n",
       "      <td>[cũng, bình thường, không, mạnh, như, kỹ vọng,...</td>\n",
       "    </tr>\n",
       "    <tr>\n",
       "      <th>3036</th>\n",
       "      <td>2</td>\n",
       "      <td>tốt tốt đang tiền khi bỏ ra để mua giao hàng n...</td>\n",
       "      <td>68</td>\n",
       "      <td>[tốt, tốt, đang, tiền, khi, bỏ, ra, để, mua, g...</td>\n",
       "    </tr>\n",
       "    <tr>\n",
       "      <th>3037</th>\n",
       "      <td>0</td>\n",
       "      <td>giao hàng lâu rửa tay một tí đã cháy màn hình ...</td>\n",
       "      <td>73</td>\n",
       "      <td>[giao, hàng, lâu, rửa tay, một tí, đã, cháy, m...</td>\n",
       "    </tr>\n",
       "    <tr>\n",
       "      <th>3038</th>\n",
       "      <td>2</td>\n",
       "      <td>quá tuyệt vời với giá và miễn phí giao hàng ch...</td>\n",
       "      <td>140</td>\n",
       "      <td>[quá, tuyệt vời, với, giá, và, miễn phí, giao,...</td>\n",
       "    </tr>\n",
       "  </tbody>\n",
       "</table>\n",
       "<p>3039 rows × 4 columns</p>\n",
       "</div>"
      ],
      "text/plain": [
       "      Rate                                           Comments  Length  \\\n",
       "0        0  chỉ có dây cáp nguồn không có adapter sao sử d...     133   \n",
       "1        0  chất lượng quá kém mới dùng được 2 ngày loa ba...     113   \n",
       "2        0  usb tôi vừa mới nhận usb này rất bực bội vì cá...     148   \n",
       "3        2                        tuyệt vời hàng fpt cửa hàng      27   \n",
       "4        1  chưa đo đúng bước chân rõ nhiều khi gián đoạn ...     133   \n",
       "...    ...                                                ...     ...   \n",
       "3034     0  không có bộ thu đi kèm vừa nhận hàng xong tức ...     120   \n",
       "3035     0  cũng bình thường không mạnh như kỹ vọng chắc t...      99   \n",
       "3036     2  tốt tốt đang tiền khi bỏ ra để mua giao hàng n...      68   \n",
       "3037     0  giao hàng lâu rửa tay một tí đã cháy màn hình ...      73   \n",
       "3038     2  quá tuyệt vời với giá và miễn phí giao hàng ch...     140   \n",
       "\n",
       "                                                 tokens  \n",
       "0     [chỉ, có, dây cáp, nguồn, không, có, adapter, ...  \n",
       "1     [chất lượng, quá, kém, mới, dùng, được, 2, ngà...  \n",
       "2     [usb, tôi, vừa mới, nhận, usb, này, rất, bực b...  \n",
       "3                      [tuyệt vời, hàng, fpt, cửa hàng]  \n",
       "4     [chưa, đo, đúng, bước, chân, rõ, nhiều, khi, g...  \n",
       "...                                                 ...  \n",
       "3034  [không, có, bộ, thu, đi, kèm, vừa, nhận, hàng,...  \n",
       "3035  [cũng, bình thường, không, mạnh, như, kỹ vọng,...  \n",
       "3036  [tốt, tốt, đang, tiền, khi, bỏ, ra, để, mua, g...  \n",
       "3037  [giao, hàng, lâu, rửa tay, một tí, đã, cháy, m...  \n",
       "3038  [quá, tuyệt vời, với, giá, và, miễn phí, giao,...  \n",
       "\n",
       "[3039 rows x 4 columns]"
      ]
     },
     "execution_count": 11,
     "metadata": {},
     "output_type": "execute_result"
    }
   ],
   "source": [
    "data"
   ]
  },
  {
   "cell_type": "markdown",
   "metadata": {},
   "source": [
    "## Remove stopwords"
   ]
  },
  {
   "cell_type": "code",
   "execution_count": 12,
   "metadata": {},
   "outputs": [],
   "source": [
    "with open('stopwords.txt', 'r', encoding='utf-8') as f:\n",
    "    stopwords = f.read().splitlines()\n"
   ]
  },
  {
   "cell_type": "code",
   "execution_count": 13,
   "metadata": {},
   "outputs": [],
   "source": [
    "data['comment_without_stopwords'] = data['Comments'].\\\n",
    "apply(lambda x: ' '.join([word for word in x.split() if word not in (stopwords)]))"
   ]
  },
  {
   "cell_type": "code",
   "execution_count": 14,
   "metadata": {},
   "outputs": [
    {
     "data": {
      "text/html": [
       "<div>\n",
       "<style scoped>\n",
       "    .dataframe tbody tr th:only-of-type {\n",
       "        vertical-align: middle;\n",
       "    }\n",
       "\n",
       "    .dataframe tbody tr th {\n",
       "        vertical-align: top;\n",
       "    }\n",
       "\n",
       "    .dataframe thead th {\n",
       "        text-align: right;\n",
       "    }\n",
       "</style>\n",
       "<table border=\"1\" class=\"dataframe\">\n",
       "  <thead>\n",
       "    <tr style=\"text-align: right;\">\n",
       "      <th></th>\n",
       "      <th>Rate</th>\n",
       "      <th>Comments</th>\n",
       "      <th>Length</th>\n",
       "      <th>tokens</th>\n",
       "      <th>comment_without_stopwords</th>\n",
       "    </tr>\n",
       "  </thead>\n",
       "  <tbody>\n",
       "    <tr>\n",
       "      <th>0</th>\n",
       "      <td>0</td>\n",
       "      <td>chỉ có dây cáp nguồn không có adapter sao sử d...</td>\n",
       "      <td>133</td>\n",
       "      <td>[chỉ, có, dây cáp, nguồn, không, có, adapter, ...</td>\n",
       "      <td>dây cáp nguồn adapter sử dụng dây cáp nguồn ad...</td>\n",
       "    </tr>\n",
       "    <tr>\n",
       "      <th>1</th>\n",
       "      <td>0</td>\n",
       "      <td>chất lượng quá kém mới dùng được 2 ngày loa ba...</td>\n",
       "      <td>113</td>\n",
       "      <td>[chất lượng, quá, kém, mới, dùng, được, 2, ngà...</td>\n",
       "      <td>chất lượng kém dùng 2 loa bass âm rè rè dù mở ...</td>\n",
       "    </tr>\n",
       "    <tr>\n",
       "      <th>2</th>\n",
       "      <td>0</td>\n",
       "      <td>usb tôi vừa mới nhận usb này rất bực bội vì cá...</td>\n",
       "      <td>148</td>\n",
       "      <td>[usb, tôi, vừa mới, nhận, usb, này, rất, bực b...</td>\n",
       "      <td>usb usb bực bội nắp usb cứng thể mở hộp đựng u...</td>\n",
       "    </tr>\n",
       "    <tr>\n",
       "      <th>3</th>\n",
       "      <td>2</td>\n",
       "      <td>tuyệt vời hàng fpt cửa hàng</td>\n",
       "      <td>27</td>\n",
       "      <td>[tuyệt vời, hàng, fpt, cửa hàng]</td>\n",
       "      <td>tuyệt vời hàng fpt cửa hàng</td>\n",
       "    </tr>\n",
       "    <tr>\n",
       "      <th>4</th>\n",
       "      <td>1</td>\n",
       "      <td>chưa đo đúng bước chân rõ nhiều khi gián đoạn ...</td>\n",
       "      <td>133</td>\n",
       "      <td>[chưa, đo, đúng, bước, chân, rõ, nhiều, khi, g...</td>\n",
       "      <td>đo đúng bước chân rõ gián đoạn hài lòng hàng t...</td>\n",
       "    </tr>\n",
       "    <tr>\n",
       "      <th>...</th>\n",
       "      <td>...</td>\n",
       "      <td>...</td>\n",
       "      <td>...</td>\n",
       "      <td>...</td>\n",
       "      <td>...</td>\n",
       "    </tr>\n",
       "    <tr>\n",
       "      <th>3034</th>\n",
       "      <td>0</td>\n",
       "      <td>không có bộ thu đi kèm vừa nhận hàng xong tức ...</td>\n",
       "      <td>120</td>\n",
       "      <td>[không, có, bộ, thu, đi, kèm, vừa, nhận, hàng,...</td>\n",
       "      <td>thu kèm hàng xong tức hàng kèm thu chuột đề ng...</td>\n",
       "    </tr>\n",
       "    <tr>\n",
       "      <th>3035</th>\n",
       "      <td>0</td>\n",
       "      <td>cũng bình thường không mạnh như kỹ vọng chắc t...</td>\n",
       "      <td>99</td>\n",
       "      <td>[cũng, bình thường, không, mạnh, như, kỹ vọng,...</td>\n",
       "      <td>bình mạnh kỹ vọng tường dày tiki giao hóa đơn</td>\n",
       "    </tr>\n",
       "    <tr>\n",
       "      <th>3036</th>\n",
       "      <td>2</td>\n",
       "      <td>tốt tốt đang tiền khi bỏ ra để mua giao hàng n...</td>\n",
       "      <td>68</td>\n",
       "      <td>[tốt, tốt, đang, tiền, khi, bỏ, ra, để, mua, g...</td>\n",
       "      <td>tốt tốt tiền bỏ mua giao hàng nhanh đóng gói c...</td>\n",
       "    </tr>\n",
       "    <tr>\n",
       "      <th>3037</th>\n",
       "      <td>0</td>\n",
       "      <td>giao hàng lâu rửa tay một tí đã cháy màn hình ...</td>\n",
       "      <td>73</td>\n",
       "      <td>[giao, hàng, lâu, rửa tay, một tí, đã, cháy, m...</td>\n",
       "      <td>giao hàng lâu rửa tay tí cháy màn hình tóm chố...</td>\n",
       "    </tr>\n",
       "    <tr>\n",
       "      <th>3038</th>\n",
       "      <td>2</td>\n",
       "      <td>quá tuyệt vời với giá và miễn phí giao hàng ch...</td>\n",
       "      <td>140</td>\n",
       "      <td>[quá, tuyệt vời, với, giá, và, miễn phí, giao,...</td>\n",
       "      <td>tuyệt vời giá miễn phí giao hàng sản phẩm tận ...</td>\n",
       "    </tr>\n",
       "  </tbody>\n",
       "</table>\n",
       "<p>3039 rows × 5 columns</p>\n",
       "</div>"
      ],
      "text/plain": [
       "      Rate                                           Comments  Length  \\\n",
       "0        0  chỉ có dây cáp nguồn không có adapter sao sử d...     133   \n",
       "1        0  chất lượng quá kém mới dùng được 2 ngày loa ba...     113   \n",
       "2        0  usb tôi vừa mới nhận usb này rất bực bội vì cá...     148   \n",
       "3        2                        tuyệt vời hàng fpt cửa hàng      27   \n",
       "4        1  chưa đo đúng bước chân rõ nhiều khi gián đoạn ...     133   \n",
       "...    ...                                                ...     ...   \n",
       "3034     0  không có bộ thu đi kèm vừa nhận hàng xong tức ...     120   \n",
       "3035     0  cũng bình thường không mạnh như kỹ vọng chắc t...      99   \n",
       "3036     2  tốt tốt đang tiền khi bỏ ra để mua giao hàng n...      68   \n",
       "3037     0  giao hàng lâu rửa tay một tí đã cháy màn hình ...      73   \n",
       "3038     2  quá tuyệt vời với giá và miễn phí giao hàng ch...     140   \n",
       "\n",
       "                                                 tokens  \\\n",
       "0     [chỉ, có, dây cáp, nguồn, không, có, adapter, ...   \n",
       "1     [chất lượng, quá, kém, mới, dùng, được, 2, ngà...   \n",
       "2     [usb, tôi, vừa mới, nhận, usb, này, rất, bực b...   \n",
       "3                      [tuyệt vời, hàng, fpt, cửa hàng]   \n",
       "4     [chưa, đo, đúng, bước, chân, rõ, nhiều, khi, g...   \n",
       "...                                                 ...   \n",
       "3034  [không, có, bộ, thu, đi, kèm, vừa, nhận, hàng,...   \n",
       "3035  [cũng, bình thường, không, mạnh, như, kỹ vọng,...   \n",
       "3036  [tốt, tốt, đang, tiền, khi, bỏ, ra, để, mua, g...   \n",
       "3037  [giao, hàng, lâu, rửa tay, một tí, đã, cháy, m...   \n",
       "3038  [quá, tuyệt vời, với, giá, và, miễn phí, giao,...   \n",
       "\n",
       "                              comment_without_stopwords  \n",
       "0     dây cáp nguồn adapter sử dụng dây cáp nguồn ad...  \n",
       "1     chất lượng kém dùng 2 loa bass âm rè rè dù mở ...  \n",
       "2     usb usb bực bội nắp usb cứng thể mở hộp đựng u...  \n",
       "3                           tuyệt vời hàng fpt cửa hàng  \n",
       "4     đo đúng bước chân rõ gián đoạn hài lòng hàng t...  \n",
       "...                                                 ...  \n",
       "3034  thu kèm hàng xong tức hàng kèm thu chuột đề ng...  \n",
       "3035      bình mạnh kỹ vọng tường dày tiki giao hóa đơn  \n",
       "3036  tốt tốt tiền bỏ mua giao hàng nhanh đóng gói c...  \n",
       "3037  giao hàng lâu rửa tay tí cháy màn hình tóm chố...  \n",
       "3038  tuyệt vời giá miễn phí giao hàng sản phẩm tận ...  \n",
       "\n",
       "[3039 rows x 5 columns]"
      ]
     },
     "execution_count": 14,
     "metadata": {},
     "output_type": "execute_result"
    }
   ],
   "source": [
    "data"
   ]
  },
  {
   "cell_type": "markdown",
   "metadata": {},
   "source": [
    "### Bag of word"
   ]
  },
  {
   "cell_type": "code",
   "execution_count": 15,
   "metadata": {},
   "outputs": [],
   "source": [
    "from sklearn.feature_extraction.text import CountVectorizer\n",
    "\n",
    "bow = CountVectorizer()\n",
    "\n",
    "text = data['comment_without_stopwords'].tolist()\n",
    "\n",
    "binaryVector = bow.fit_transform(text)"
   ]
  },
  {
   "cell_type": "code",
   "execution_count": 16,
   "metadata": {},
   "outputs": [
    {
     "name": "stdout",
     "output_type": "stream",
     "text": [
      "[(2279, 3309), (760, 3309), (2279,), (760,)]\n"
     ]
    }
   ],
   "source": [
    "from sklearn.model_selection import train_test_split\n",
    "# Seperate dataset into test and train\n",
    "\n",
    "y = data['Rate']\n",
    "X = binaryVector\n",
    "\n",
    "train_X, test_X, train_y, test_y = train_test_split(X, y, random_state=0)\n",
    "\n",
    "print([x.shape for x in [train_X, test_X, train_y, test_y]])"
   ]
  },
  {
   "cell_type": "code",
   "execution_count": 17,
   "metadata": {},
   "outputs": [
    {
     "name": "stdout",
     "output_type": "stream",
     "text": [
      "Accuracy:  0.7618421052631579 \n",
      "\n",
      "Confusion Matrix:\n",
      " [[222  34   8]\n",
      " [ 41 141  22]\n",
      " [ 18  58 216]]\n"
     ]
    }
   ],
   "source": [
    "from sklearn.naive_bayes import MultinomialNB\n",
    "from sklearn import metrics\n",
    "# Now for testing the naive bayes model\n",
    "\n",
    "MNB = MultinomialNB()\n",
    "MNB.fit(train_X, train_y)\n",
    "\n",
    "predicted = MNB.predict(test_X)\n",
    "accuracy_score = metrics.accuracy_score(test_y,predicted)\n",
    "confusion_count = metrics.confusion_matrix(predicted, test_y)\n",
    "\n",
    "\n",
    "print('Accuracy: ',accuracy_score,'\\n')\n",
    "print('Confusion Matrix:\\n',confusion_count)"
   ]
  },
  {
   "cell_type": "code",
   "execution_count": 18,
   "metadata": {},
   "outputs": [
    {
     "data": {
      "image/png": "[encoded data removed]",
      "text/plain": [
       "<Figure size 640x480 with 2 Axes>"
      ]
     },
     "metadata": {},
     "output_type": "display_data"
    }
   ],
   "source": [
    "# Lets plot the results properly\n",
    "\n",
    "confusion = metrics.confusion_matrix(predicted, test_y, normalize = 'true')\n",
    "\n",
    "ax= plt.subplot()\n",
    "sns.heatmap(confusion, annot=True, fmt='g', ax=ax);  #annot=True to annotate cells, ftm='g' to disable scientific notation\n",
    "\n",
    "# labels, title and ticks\n",
    "ax.set_xlabel('Predicted labels');ax.set_ylabel('True labels'); \n",
    "ax.set_title('Confusion Matrix'); \n",
    "ax.xaxis.set_ticklabels(['negative', 'neutral', 'positive']); ax.yaxis.set_ticklabels(['negative', 'neutral', 'positive']);"
   ]
  },
  {
   "cell_type": "code",
   "execution_count": 19,
   "metadata": {},
   "outputs": [
    {
     "name": "stdout",
     "output_type": "stream",
     "text": [
      "Negative words:\n",
      " ['hàng' 'mua' 'sản' 'phẩm' 'nghe' 'dùng' 'giao' 'shop' 'lòng' 'pin' 'hài'\n",
      " 'tai' 'máy' 'tiki' 'kết' 'nối' 'điện' 'lỗi' 'dụng' 'sạc' 'bảo' 'sử' 'đổi'\n",
      " 'hành' 'bên']\n",
      "\n",
      "Positive words:\n",
      " ['hàng' 'tốt' 'sản' 'phẩm' 'nghe' 'dùng' 'giao' 'bình' 'mua' 'giá' 'pin'\n",
      " 'hơi' 'nhanh' 'máy' 'ổn' 'chuột' 'tai' 'dụng' 'tiki' 'tạm' 'sử' 'bảo'\n",
      " 'khá' 'lượng' 'ok']\n"
     ]
    }
   ],
   "source": [
    "# Lets look for the most important words\n",
    "\n",
    "neg_class_prob_sorted = MNB.feature_log_prob_[0, :].argsort()[::-1]\n",
    "pos_class_prob_sorted = MNB.feature_log_prob_[1, :].argsort()[::-1]\n",
    "\n",
    "print('Negative words:\\n', np.take(bow.get_feature_names_out(), neg_class_prob_sorted[:25]))\n",
    "print('\\nPositive words:\\n', np.take(bow.get_feature_names_out(), pos_class_prob_sorted[:25]))"
   ]
  },
  {
   "cell_type": "code",
   "execution_count": 20,
   "metadata": {},
   "outputs": [
    {
     "name": "stdout",
     "output_type": "stream",
     "text": [
      "[0.75657895 0.74506579 0.75       0.74506579 0.71828666]\n",
      "0.742999436399896\n"
     ]
    }
   ],
   "source": [
    "from sklearn.model_selection import cross_val_score\n",
    "\n",
    "# Perform 5-fold cross validation\n",
    "scores = cross_val_score(MNB, X, y, cv=5)\n",
    "\n",
    "# Print cross validation scores\n",
    "print(scores)\n",
    "\n",
    "# Print the mean score\n",
    "print(scores.mean())\n"
   ]
  },
  {
   "cell_type": "code",
   "execution_count": 21,
   "metadata": {},
   "outputs": [],
   "source": [
    "import tkinter as tk\n",
    "\n",
    "def show_result():\n",
    "     comment = entry.get(\"1.0\", tk.END)\n",
    "     processed_comment = ' '.join([word for word in word_tokenize(comment) if word not in stopwords])\n",
    "     processed_comment = bow.transform([processed_comment])\n",
    "     prediction = MNB.predict(processed_comment)\n",
    "     prediction = int(prediction[0])\n",
    "     if prediction == 0:\n",
    "         result = \"Tiêu cực\"\n",
    "     elif prediction == 1:\n",
    "         result = \"Bình thường\"\n",
    "     else:\n",
    "         result = \"Tích cực\"\n",
    "     result_entry.config(state='normal')\n",
    "     result_entry.insert(0, result)\n",
    "     result_entry.config(state='readonly')\n",
    "    \n",
    "def clear_entry():\n",
    "     result_entry.config(state='normal')\n",
    "     result_entry.delete(0, tk.END)\n",
    "     result_entry.config(state='readonly')\n",
    "     entry.delete(\"1.0\", tk.END)\n",
    "root = tk.Tk()\n",
    "root.title(\"Phân tích cảm xúc khách hàng\")\n",
    "window_width = 500\n",
    "window_height = 300\n",
    "\n",
    "custom_font = (\"Arial\", 19)\n",
    "\n",
    "screen_width = root.winfo_screenwidth()\n",
    "screen_height = root.winfo_screenheight()\n",
    "\n",
    "x_position = (screen_width - window_width) // 2\n",
    "y_position = (screen_height - window_height) // 2\n",
    "\n",
    "root.geometry(f\"{window_width}x{window_height}+{x_position}+{y_position}\")\n",
    "\n",
    "entry = tk.Text(root, height=6, width=40)\n",
    "entry.place(x=50, y=60)\n",
    "\n",
    "button = tk.Button(root, text=\"Hiển thị kết quả\", command=show_result, padx=10, pady=1)\n",
    "button.place(x=50, y=180)\n",
    "\n",
    "result_entry = tk.Entry(root, font=custom_font,width= 10)\n",
    "result_entry.place(x=202, y=180)\n",
    "result_entry.insert(0, \"  \")\n",
    "result_entry.configure(state='readonly')\n",
    "\n",
    "reset_button = tk.Button(root, text=\"Reset\", command=clear_entry, padx=10, pady=1)\n",
    "reset_button.place(x=390,y=180)\n",
    "\n",
    "root.mainloop()\n"
   ]
  },
  {
   "cell_type": "code",
   "execution_count": null,
   "metadata": {},
   "outputs": [],
   "source": []
  }
 ],
 "metadata": {
  "kernelspec": {
   "display_name": "Python 3 (ipykernel)",
   "language": "python",
   "name": "python3"
  },
  "language_info": {
   "codemirror_mode": {
    "name": "ipython",
    "version": 3
   },
   "file_extension": ".py",
   "mimetype": "text/x-python",
   "name": "python",
   "nbconvert_exporter": "python",
   "pygments_lexer": "ipython3",
   "version": "3.11.4"
  }
 },
 "nbformat": 4,
 "nbformat_minor": 2
}
